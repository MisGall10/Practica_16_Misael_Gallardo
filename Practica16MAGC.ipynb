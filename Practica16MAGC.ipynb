{
  "nbformat": 4,
  "nbformat_minor": 0,
  "metadata": {
    "colab": {
      "provenance": [],
      "mount_file_id": "1a1-62QkaGjv1av6KLMopdLQF3IhSlko7",
      "authorship_tag": "ABX9TyM/IkAhiknW17uY7Yrn7p9n",
      "include_colab_link": true
    },
    "kernelspec": {
      "name": "python3",
      "display_name": "Python 3"
    },
    "language_info": {
      "name": "python"
    }
  },
  "cells": [
    {
      "cell_type": "markdown",
      "metadata": {
        "id": "view-in-github",
        "colab_type": "text"
      },
      "source": [
        "<a href=\"https://colab.research.google.com/github/MisGall10/Practica_16_Misael_Gallardo/blob/main/Practica16MAGC.ipynb\" target=\"_parent\"><img src=\"https://colab.research.google.com/assets/colab-badge.svg\" alt=\"Open In Colab\"/></a>"
      ]
    },
    {
      "cell_type": "markdown",
      "source": [
        "# **Practica # 16. Datos Duplicados**\n",
        "\n",
        "El objetivo de esta actividad es que los estudiantes pongan en práctica lo visto en el vídeo y en el notebook que se proporciona\n",
        "\n",
        "Instrucciones:\n",
        "\n",
        "1. Descarga el archivo dirtydata.csv, proporcionado en esta tarea. También lo puedes encontrar en recursos.\n",
        "2. Crea un notebook en colab y guarda el archivo csv  en tu drive.\n",
        "3. Agrega secciones en el colab poniendo como título el nombre de cada ejercicio.\n"
      ],
      "metadata": {
        "id": "Oj0DWEM4XF0K"
      }
    },
    {
      "cell_type": "code",
      "source": [
        "from google.colab import drive\n",
        "drive.mount('/content/drive')"
      ],
      "metadata": {
        "id": "rE3H0MrKXuvh"
      },
      "execution_count": null,
      "outputs": []
    },
    {
      "cell_type": "markdown",
      "source": [
        "# Ejercicio 01. Datos Perdidos.\n",
        "\n",
        "1. Carga el conjunto de datos dirty.csv y verifica que su carga sea correcta.\n",
        "2. Imprime la cantidad de datos perdidos que tiene el conjunto de datos\n",
        "3. Calcula la media de la columna Calories\n",
        "4. Aplica imputación por promedio (mean) en la columna Calories\n",
        "5. Calcula de nuevo la media de la columna Calories después de que has imputado."
      ],
      "metadata": {
        "id": "UpwKbAVcXZOV"
      }
    },
    {
      "cell_type": "code",
      "execution_count": 31,
      "metadata": {
        "colab": {
          "base_uri": "https://localhost:8080/"
        },
        "id": "0VMku7C6W_dC",
        "outputId": "07ffc307-b4d4-41ff-e03a-ed0434d64b83"
      },
      "outputs": [
        {
          "output_type": "stream",
          "name": "stdout",
          "text": [
            "Cantidad de datos perdidos que tiene el conjunto de datos:\n",
            "Duration    0\n",
            "Date        1\n",
            "Pulse       0\n",
            "Maxpulse    0\n",
            "Calories    2\n",
            "dtype: int64\n",
            "La media de la columna Calorias antes de la modificacion es:\n",
            "304.68\n",
            "La media de la columna Calorias despues de la modificacion es:\n",
            "304.67999999999995\n"
          ]
        },
        {
          "output_type": "stream",
          "name": "stderr",
          "text": [
            "<ipython-input-31-af4003701354>:13: FutureWarning: A value is trying to be set on a copy of a DataFrame or Series through chained assignment using an inplace method.\n",
            "The behavior will change in pandas 3.0. This inplace method will never work because the intermediate object on which we are setting values always behaves as a copy.\n",
            "\n",
            "For example, when doing 'df[col].method(value, inplace=True)', try using 'df.method({col: value}, inplace=True)' or df[col] = df[col].method(value) instead, to perform the operation inplace on the original object.\n",
            "\n",
            "\n",
            "  df['Calories'].fillna(media, inplace=True)\n"
          ]
        }
      ],
      "source": [
        "#Importamos la libreria de pandas\n",
        "import pandas as pd\n",
        "#Cargamos el archivo\n",
        "df = pd.read_csv('/content/drive/MyDrive/ClassFiles/Programacion/Unidad02/dirtydata.csv')\n",
        "#Imprimimos la cantidad de datos perdidos que tiene el conjunto de datos\n",
        "print(f'Cantidad de datos perdidos que tiene el conjunto de datos:')\n",
        "print(df.isnull().sum())\n",
        "#Calculamos la media de la columna Calorias\n",
        "media = df['Calories'].mean()\n",
        "print('La media de la columna Calorias antes de la modificacion es:')\n",
        "print(media)\n",
        "#Aplicamos imputacion por promedio (mean) en la columnas Calorias\n",
        "df['Calories'].fillna(media, inplace=True)\n",
        "#Calculamos de nuevo la media de la columna Calorias despues de la modificacion\n",
        "mediaR = df['Calories'].mean()\n",
        "print('La media de la columna Calorias despues de la modificacion es:')\n",
        "print(mediaR)\n"
      ]
    },
    {
      "cell_type": "markdown",
      "source": [
        "---\n",
        "**Ejercicio 02. Duplicidad Parcial Una columna: Contar y Filtrar los registros duplicados en Duration**\n",
        "\n",
        "1. Carga el conjunto de datos dirty.csv y verifica que su carga sea correcta.\n",
        "2. Cuenta la cantidad de registros duplicados utilizando solo la información de columna Duration e imprime\n",
        "3. Utiliza value_counts() e imprime la cantidad de registros que hay por cada valor único.\n",
        "4. Filtra los datos y obten los registros sin duplicados\n"
      ],
      "metadata": {
        "id": "VLStsSEKavZy"
      }
    },
    {
      "cell_type": "code",
      "source": [
        "#Importamos la libreria de pandas\n",
        "import pandas as pd\n",
        "#Cargamos el archivo\n",
        "df = pd.read_csv('/content/drive/MyDrive/ClassFiles/Programacion/Unidad02/dirtydata.csv')\n",
        "#Contamos los registros duplicados utilizando solo la informacion de Duration e imprimimos\n",
        "num_duplicados = df.duplicated(subset=['Duration']).sum()\n",
        "print(f'Cantidad de registros duplicados utilizando solo la informacion de Duration: {num_duplicados}')\n",
        "#Utilizamos la funcion value_counts() e imprimimos la cantidad de registros que\n",
        "#Que hay por cada valor unico\n",
        "print(df['Duration'].value_counts())\n",
        "#Filtramos los datos y obtenemos los registros sin duplicados\n",
        "df_sin_duplicados = df.drop_duplicates(subset=['Duration'])\n",
        "print('Registros sin duplicados en la columna Duration:')\n",
        "print(df_sin_duplicados)"
      ],
      "metadata": {
        "colab": {
          "base_uri": "https://localhost:8080/"
        },
        "id": "4xAZYv1wa5KZ",
        "outputId": "185dd575-bfdb-46c6-aad3-72887faddf74"
      },
      "execution_count": 36,
      "outputs": [
        {
          "output_type": "stream",
          "name": "stdout",
          "text": [
            "Cantidad de registros duplicados utilizando solo la informacion de Duration: 28\n",
            "Duration\n",
            "60     24\n",
            "45      6\n",
            "450     1\n",
            "30      1\n",
            "Name: count, dtype: int64\n",
            "Registros sin duplicados en la columna Duration:\n",
            "   Duration          Date  Pulse  Maxpulse  Calories\n",
            "0        60  '2020/12/01'    110       130     409.1\n",
            "3        45  '2020/12/04'    109       175     282.4\n",
            "7       450  '2020/12/08'    104       134     253.3\n",
            "8        30  '2020/12/09'    109       133     195.1\n"
          ]
        }
      ]
    },
    {
      "cell_type": "markdown",
      "source": [
        "---\n",
        "\n",
        "**Ejercicio 03 Duplicidad Parcial Dos columnaa: Contar y Filtrar los registros duplicados en Pulse y MaxPulse**\n",
        "\n",
        "1. Carga el conjunto de datos dirty.csv y verifica que su carga sea correcta.\n",
        "2. Cuenta la cantidad de registros duplicados utilizando la información de las columnas Pulse y Maxpulse\n",
        "3. Utiliza value_counts() e imprime la cantidad de registros que hay por cada valor único.\n",
        "4. Filtra los datos y obten los registros cuando keep = 'last'"
      ],
      "metadata": {
        "id": "VqQtBWU8cLnJ"
      }
    },
    {
      "cell_type": "code",
      "source": [
        "#Importamos la libreria de pandas\n",
        "import pandas as pd\n",
        "#Cargamos el archivo\n",
        "df = pd.read_csv('/content/drive/MyDrive/ClassFiles/Programacion/Unidad02/dirtydata.csv')\n",
        "#Contamos los registros duplicados utilizando solo la informacion de Pulse y Maxpulse\n",
        "num_duplicados = df.duplicated(subset=['Pulse', 'Maxpulse']).sum()\n",
        "print(f'Cantidad de registros duplicados utilizando la informacion de Pulse y Maxpulse: {num_duplicados}')\n",
        "#Utilizamos value_count() e imprimimos la cantidad de reistros que hay por valor unico\n",
        "print('Cantidad de registros que hay por cada valor unico en Pulse:')\n",
        "print(df['Pulse'].value_counts())\n",
        "print('Cantidad de registros que hay por cada valor unico en Maxpulse:')\n",
        "print(df['Maxpulse'].value_counts())\n",
        "#Filtramos los datos y obtenemos los registros cuando keep = 'last'\n",
        "df_sin_duplicados = df.drop_duplicates(subset=['Pulse', 'Maxpulse'], keep='last')\n",
        "print('Registros sin duplicados en las columnas Pulse y Maxpulse:')\n",
        "print(df_sin_duplicados)"
      ],
      "metadata": {
        "colab": {
          "base_uri": "https://localhost:8080/"
        },
        "id": "3QrHcHUUcLV8",
        "outputId": "f417a838-abf5-419a-f869-e02940b8ccd2"
      },
      "execution_count": 43,
      "outputs": [
        {
          "output_type": "stream",
          "name": "stdout",
          "text": [
            "Cantidad de registros duplicados utilizando la informacion de Pulse y Maxpulse: 3\n",
            "Cantidad de registros que hay por cada valor unico en Pulse:\n",
            "Pulse\n",
            "100    6\n",
            "103    4\n",
            "102    3\n",
            "98     3\n",
            "110    2\n",
            "117    2\n",
            "109    2\n",
            "104    2\n",
            "92     2\n",
            "106    1\n",
            "90     1\n",
            "97     1\n",
            "108    1\n",
            "130    1\n",
            "105    1\n",
            "Name: count, dtype: int64\n",
            "Cantidad de registros que hay por cada valor unico en Maxpulse:\n",
            "Maxpulse\n",
            "120    5\n",
            "132    4\n",
            "123    2\n",
            "130    1\n",
            "129    1\n",
            "118    1\n",
            "126    1\n",
            "101    1\n",
            "119    1\n",
            "131    1\n",
            "125    1\n",
            "112    1\n",
            "128    1\n",
            "145    1\n",
            "147    1\n",
            "124    1\n",
            "133    1\n",
            "134    1\n",
            "136    1\n",
            "127    1\n",
            "148    1\n",
            "175    1\n",
            "135    1\n",
            "115    1\n",
            "Name: count, dtype: int64\n",
            "Registros sin duplicados en las columnas Pulse y Maxpulse:\n",
            "    Duration          Date  Pulse  Maxpulse  Calories\n",
            "0         60  '2020/12/01'    110       130     409.1\n",
            "1         60  '2020/12/02'    117       145     479.0\n",
            "2         60  '2020/12/03'    103       135     340.0\n",
            "3         45  '2020/12/04'    109       175     282.4\n",
            "4         45  '2020/12/05'    117       148     406.0\n",
            "5         60  '2020/12/06'    102       127     300.0\n",
            "6         60  '2020/12/07'    110       136     374.0\n",
            "7        450  '2020/12/08'    104       134     253.3\n",
            "8         30  '2020/12/09'    109       133     195.1\n",
            "9         60  '2020/12/10'     98       124     269.0\n",
            "10        60  '2020/12/11'    103       147     329.3\n",
            "13        60  '2020/12/13'    106       128     345.3\n",
            "14        60  '2020/12/14'    104       132     379.3\n",
            "15        60  '2020/12/15'     98       123     275.0\n",
            "16        60  '2020/12/16'     98       120     215.2\n",
            "18        45  '2020/12/18'     90       112       NaN\n",
            "19        60  '2020/12/19'    103       123     323.0\n",
            "20        45  '2020/12/20'     97       125     243.0\n",
            "21        60  '2020/12/21'    108       131     364.2\n",
            "22        45           NaN    100       119     282.0\n",
            "23        60  '2020/12/23'    130       101     300.0\n",
            "24        45  '2020/12/24'    105       132     246.0\n",
            "25        60  '2020/12/25'    102       126     334.5\n",
            "26        60      20201226    100       120     250.0\n",
            "27        60  '2020/12/27'     92       118     241.0\n",
            "28        60  '2020/12/28'    103       132       NaN\n",
            "29        60  '2020/12/29'    100       132     280.0\n",
            "30        60  '2020/12/30'    102       129     380.3\n",
            "31        60  '2020/12/31'     92       115     243.0\n"
          ]
        }
      ]
    },
    {
      "cell_type": "markdown",
      "source": [
        "---\n",
        "**Ejercicio 04 Duplicidad Total o Exacta: Contar y Filtrar los registros duplicados**\n",
        "\n",
        "1. Carga el conjunto de datos dirty.csv y verifica que su carga sea correcta.\n",
        "2. Cuenta la cantidad de registros duplicados exactos (todas las columnas)\n",
        "3. Utiliza sum() e imprime la cantidad de registros con duplicidad exacta\n",
        "4. Filtra los datos y obten los registros cuando keep = 'last'"
      ],
      "metadata": {
        "id": "4_9hpqEWdcNr"
      }
    },
    {
      "cell_type": "code",
      "source": [
        "#Importamos la libreria de pandas\n",
        "import pandas as pd\n",
        "#Cargamos el archivo\n",
        "df = pd.read_csv('/content/drive/MyDrive/ClassFiles/Programacion/Unidad02/dirtydata.csv')\n",
        "#Contamos los registros duplicados exactos(todas las columnas)\n",
        "num_duplicados = df.duplicated().sum()\n",
        "print(f'Cantidad de registros duplicados exactos: {num_duplicados}')\n",
        "#Utilizamos sum() e imprimimos la cantidad de registros con duplicidad exacta\n",
        "print(f'Cantidad de registros con duplicidad exacta: {df.duplicated().sum()}')\n",
        "#Filtramos los datos y obtenemos los registros cuando keep = 'last'\n",
        "df_sin_duplicados = df.drop_duplicates()\n",
        "print('Registros sin duplicados:')\n",
        "print(df_sin_duplicados)\n"
      ],
      "metadata": {
        "colab": {
          "base_uri": "https://localhost:8080/"
        },
        "id": "QVsC-6PKdcZC",
        "outputId": "a1bf9dd6-8e54-433f-82c5-84b7aa9ec76a"
      },
      "execution_count": 48,
      "outputs": [
        {
          "output_type": "stream",
          "name": "stdout",
          "text": [
            "Cantidad de registros duplicados exactos: 1\n",
            "Cantidad de registros con duplicidad exacta: 1\n",
            "Registros sin duplicados:\n",
            "    Duration          Date  Pulse  Maxpulse  Calories\n",
            "0         60  '2020/12/01'    110       130     409.1\n",
            "1         60  '2020/12/02'    117       145     479.0\n",
            "2         60  '2020/12/03'    103       135     340.0\n",
            "3         45  '2020/12/04'    109       175     282.4\n",
            "4         45  '2020/12/05'    117       148     406.0\n",
            "5         60  '2020/12/06'    102       127     300.0\n",
            "6         60  '2020/12/07'    110       136     374.0\n",
            "7        450  '2020/12/08'    104       134     253.3\n",
            "8         30  '2020/12/09'    109       133     195.1\n",
            "9         60  '2020/12/10'     98       124     269.0\n",
            "10        60  '2020/12/11'    103       147     329.3\n",
            "11        60  '2020/12/12'    100       120     250.7\n",
            "13        60  '2020/12/13'    106       128     345.3\n",
            "14        60  '2020/12/14'    104       132     379.3\n",
            "15        60  '2020/12/15'     98       123     275.0\n",
            "16        60  '2020/12/16'     98       120     215.2\n",
            "17        60  '2020/12/17'    100       120     300.0\n",
            "18        45  '2020/12/18'     90       112       NaN\n",
            "19        60  '2020/12/19'    103       123     323.0\n",
            "20        45  '2020/12/20'     97       125     243.0\n",
            "21        60  '2020/12/21'    108       131     364.2\n",
            "22        45           NaN    100       119     282.0\n",
            "23        60  '2020/12/23'    130       101     300.0\n",
            "24        45  '2020/12/24'    105       132     246.0\n",
            "25        60  '2020/12/25'    102       126     334.5\n",
            "26        60      20201226    100       120     250.0\n",
            "27        60  '2020/12/27'     92       118     241.0\n",
            "28        60  '2020/12/28'    103       132       NaN\n",
            "29        60  '2020/12/29'    100       132     280.0\n",
            "30        60  '2020/12/30'    102       129     380.3\n",
            "31        60  '2020/12/31'     92       115     243.0\n"
          ]
        }
      ]
    },
    {
      "cell_type": "markdown",
      "source": [
        "---\n",
        "**Ejercicio 05: Cálculo de la media con duplicados y sin duplicados**\n",
        "\n",
        "1. Carga el conjunto de datos dirty.csv y verifica que su carga sea correcta.\n",
        "2. Calcula e imprime la media de las columnas Pulse y MaxPulse\n",
        "3. Identifica los valores duplicados en las columnas Pulse y MaxPulse (Duplicidad Parcial) y elimina los registro repetidos. Quédate con las últimas ocurrencias\n",
        "4. Utiliza el conjunto anterior sin datos duplicados (recuerda que solo quedaron las últimas ocurrencias de los datos) y calcula la media de las columnas Pulse y MaxPulse"
      ],
      "metadata": {
        "id": "Dam3LSMXdpVo"
      }
    },
    {
      "cell_type": "code",
      "source": [
        "#Importamos la libreria de pandas\n",
        "import pandas as pd\n",
        "#Cargamos el archivo\n",
        "df = pd.read_csv('/content/drive/MyDrive/ClassFiles/Programacion/Unidad02/dirtydata.csv')\n",
        "#Calculamos e imprimimos la media de las columnas Pulse y Max Pulse\n",
        "mediaPulse = df['Pulse'].mean()\n",
        "mediaMaxPulse = df['Maxpulse'].mean()\n",
        "print('Medias antes de modificacion:')\n",
        "print(f'La media de la columna Pulse es: {mediaPulse}')\n",
        "print(f'La media de la columna MaxPulse es: {mediaMaxPulse}')\n",
        "#Sacamos los valores duplicados en las columnas Pulse y Maxpulse y los eliminamos\n",
        "df_sin_duplicados = df.drop_duplicates(subset=['Pulse', 'Maxpulse'], keep='last')\n",
        "#Utilizamos el conjunto sin duplicados y calculamos la media de las columnas Pulse y Maxpulse\n",
        "mediaPulse = df_sin_duplicados['Pulse'].mean()\n",
        "mediaMaxPulse = df_sin_duplicados['Maxpulse'].mean()\n",
        "print('Medias despues de modificacion:')\n",
        "print(f'La media de la columna Pulse es: {mediaPulse}')\n",
        "print(f'La media de la columna MaxPulse es: {mediaMaxPulse}')\n",
        "\n"
      ],
      "metadata": {
        "colab": {
          "base_uri": "https://localhost:8080/"
        },
        "id": "pHT_qRvMdpsO",
        "outputId": "f83361f3-5c96-4f4e-9080-72553e411811"
      },
      "execution_count": 51,
      "outputs": [
        {
          "output_type": "stream",
          "name": "stdout",
          "text": [
            "Medias antes de modificacion:\n",
            "La media de la columna Pulse es: 103.5\n",
            "La media de la columna MaxPulse es: 128.5\n",
            "Medias despues de modificacion:\n",
            "La media de la columna Pulse es: 103.86206896551724\n",
            "La media de la columna MaxPulse es: 129.3793103448276\n"
          ]
        }
      ]
    }
  ]
}